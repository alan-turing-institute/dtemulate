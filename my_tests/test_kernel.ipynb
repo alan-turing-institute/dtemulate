{
 "cells": [
  {
   "cell_type": "code",
   "execution_count": 3,
   "metadata": {},
   "outputs": [],
   "source": [
    "from sklearn.gaussian_process.kernels import RBF, Matern, RationalQuadratic, ExpSineSquared, DotProduct, ConstantKernel\n",
    "from autoemulate.utils import select_kernel"
   ]
  },
  {
   "cell_type": "code",
   "execution_count": 4,
   "metadata": {},
   "outputs": [
    {
     "name": "stderr",
     "output_type": "stream",
     "text": [
      "/Users/mfamili/work/autoemulate/autoemulate/compare.py:8: TqdmExperimentalWarning: Using `tqdm.autonotebook.tqdm` in notebook mode. Use `tqdm.tqdm` instead to force console mode (e.g. in jupyter console)\n",
      "  from tqdm.autonotebook import tqdm\n"
     ]
    },
    {
     "data": {
      "text/html": [
       "<p>AutoEmulate is set up with the following settings:</p>"
      ],
      "text/plain": [
       "<IPython.core.display.HTML object>"
      ]
     },
     "metadata": {},
     "output_type": "display_data"
    },
    {
     "data": {
      "text/html": [
       "<table border=\"1\" class=\"dataframe\">\n",
       "  <thead>\n",
       "    <tr style=\"text-align: right;\">\n",
       "      <th></th>\n",
       "      <th>Values</th>\n",
       "    </tr>\n",
       "  </thead>\n",
       "  <tbody>\n",
       "    <tr>\n",
       "      <th>Simulation input shape (X)</th>\n",
       "      <td>(100, 2)</td>\n",
       "    </tr>\n",
       "    <tr>\n",
       "      <th>Simulation output shape (y)</th>\n",
       "      <td>(100, 2)</td>\n",
       "    </tr>\n",
       "    <tr>\n",
       "      <th>Proportion of data for testing (test_set_size)</th>\n",
       "      <td>0.2</td>\n",
       "    </tr>\n",
       "    <tr>\n",
       "      <th>Scale input data (scale)</th>\n",
       "      <td>True</td>\n",
       "    </tr>\n",
       "    <tr>\n",
       "      <th>Scaler (scaler)</th>\n",
       "      <td>StandardScaler</td>\n",
       "    </tr>\n",
       "    <tr>\n",
       "      <th>Do hyperparameter search (param_search)</th>\n",
       "      <td>False</td>\n",
       "    </tr>\n",
       "    <tr>\n",
       "      <th>Reduce dimensionality (reduce_dim)</th>\n",
       "      <td>False</td>\n",
       "    </tr>\n",
       "    <tr>\n",
       "      <th>Cross validator (cross_validator)</th>\n",
       "      <td>KFold</td>\n",
       "    </tr>\n",
       "    <tr>\n",
       "      <th>Parallel jobs (n_jobs)</th>\n",
       "      <td>1</td>\n",
       "    </tr>\n",
       "  </tbody>\n",
       "</table>"
      ],
      "text/plain": [
       "<IPython.core.display.HTML object>"
      ]
     },
     "metadata": {},
     "output_type": "display_data"
    },
    {
     "data": {
      "text/html": [
       "<p>AutoEmulate is set up with the following settings:</p>"
      ],
      "text/plain": [
       "<IPython.core.display.HTML object>"
      ]
     },
     "metadata": {},
     "output_type": "display_data"
    },
    {
     "data": {
      "text/html": [
       "<table border=\"1\" class=\"dataframe\">\n",
       "  <thead>\n",
       "    <tr style=\"text-align: right;\">\n",
       "      <th></th>\n",
       "      <th>Values</th>\n",
       "    </tr>\n",
       "  </thead>\n",
       "  <tbody>\n",
       "    <tr>\n",
       "      <th>Simulation input shape (X)</th>\n",
       "      <td>(100, 2)</td>\n",
       "    </tr>\n",
       "    <tr>\n",
       "      <th>Simulation output shape (y)</th>\n",
       "      <td>(100, 2)</td>\n",
       "    </tr>\n",
       "    <tr>\n",
       "      <th>Proportion of data for testing (test_set_size)</th>\n",
       "      <td>0.2</td>\n",
       "    </tr>\n",
       "    <tr>\n",
       "      <th>Scale input data (scale)</th>\n",
       "      <td>True</td>\n",
       "    </tr>\n",
       "    <tr>\n",
       "      <th>Scaler (scaler)</th>\n",
       "      <td>MinMaxScaler</td>\n",
       "    </tr>\n",
       "    <tr>\n",
       "      <th>Do hyperparameter search (param_search)</th>\n",
       "      <td>False</td>\n",
       "    </tr>\n",
       "    <tr>\n",
       "      <th>Reduce dimensionality (reduce_dim)</th>\n",
       "      <td>False</td>\n",
       "    </tr>\n",
       "    <tr>\n",
       "      <th>Cross validator (cross_validator)</th>\n",
       "      <td>KFold</td>\n",
       "    </tr>\n",
       "    <tr>\n",
       "      <th>Parallel jobs (n_jobs)</th>\n",
       "      <td>1</td>\n",
       "    </tr>\n",
       "  </tbody>\n",
       "</table>"
      ],
      "text/plain": [
       "<IPython.core.display.HTML object>"
      ]
     },
     "metadata": {},
     "output_type": "display_data"
    },
    {
     "data": {
      "application/vnd.jupyter.widget-view+json": {
       "model_id": "def8ac454ee942d29ba57c0392fa8348",
       "version_major": 2,
       "version_minor": 0
      },
      "text/plain": [
       "Initializing:   0%|          | 0/8 [00:00<?, ?it/s]"
      ]
     },
     "metadata": {},
     "output_type": "display_data"
    }
   ],
   "source": [
    "from autoemulate.simulations.projectile import simulate_projectile_multioutput\n",
    "from autoemulate.experimental_design import LatinHypercube\n",
    "from autoemulate.simulations.epidemic import simulate_epidemic\n",
    "from autoemulate.compare import AutoEmulate\n",
    "import numpy as np\n",
    "\n",
    "lhd = LatinHypercube([(-5., 1.), (0., 1000.)]) # (upper, lower) bounds for each parameter\n",
    "X = lhd.sample(100)\n",
    "y = np.array([simulate_projectile_multioutput(x) for x in X])\n",
    "em = AutoEmulate()\n",
    "em.setup(X, y)\n",
    "### Example\n",
    "from sklearn.preprocessing import MinMaxScaler\n",
    "from sklearn.decomposition import PCA\n",
    "from sklearn.model_selection import KFold\n",
    "mmscaler = MinMaxScaler()\n",
    "pca = PCA(0.99)\n",
    "kfold = KFold(n_splits=3, shuffle=False)\n",
    "em = AutoEmulate()\n",
    "em.setup(X, y, scale=True, scaler=mmscaler, cross_validator=kfold)\n",
    "best_model = em.compare()\n",
    "pred_mean, pred_std = best_model.predict(X, return_std=True)\n",
    "pred_var = np.square(pred_std)  # Convert std to variance\n",
    "expectations = (pred_mean, pred_var)  "
   ]
  },
  {
   "cell_type": "code",
   "execution_count": 5,
   "metadata": {},
   "outputs": [
    {
     "data": {
      "text/plain": [
       "sklearn.gaussian_process.kernels.RBF"
      ]
     },
     "execution_count": 5,
     "metadata": {},
     "output_type": "execute_result"
    }
   ],
   "source": [
    "kernel = select_kernel('RBF')\n",
    "type(kernel)"
   ]
  },
  {
   "cell_type": "code",
   "execution_count": 6,
   "metadata": {},
   "outputs": [],
   "source": [
    "from sklearn.gaussian_process.kernels import RBF\n",
    "import numpy as np\n",
    "\n"
   ]
  },
  {
   "cell_type": "code",
   "execution_count": 9,
   "metadata": {},
   "outputs": [
    {
     "data": {
      "text/plain": [
       "array([[1.        , 0.99991439, 1.        , 0.99991439],\n",
       "       [0.99991439, 1.        , 0.99991439, 1.        ],\n",
       "       [1.        , 0.99991439, 1.        , 0.99991439],\n",
       "       [0.99991439, 1.        , 0.99991439, 1.        ]])"
      ]
     },
     "execution_count": 9,
     "metadata": {},
     "output_type": "execute_result"
    }
   ],
   "source": [
    "import torch\n",
    "\n",
    "kernel = select_kernel('RBF', length_scale=5000.0)\n",
    "\n",
    "obs = [(1500, 53, 2, 3), (200, 80, 4 , 5)]\n",
    "\n",
    "obs_mean, obs_var = np.array(obs)\n",
    "if obs_mean is not list:\n",
    "    obs_mean = [obs_mean]\n",
    "if obs_var is not list:\n",
    "    obs_var = np.array([obs_var])\n",
    "    \n",
    "obs_mean = torch.tensor(obs_mean, dtype=torch.float32, requires_grad=True)\n",
    "obs_var = torch.tensor(obs_var, dtype=torch.float32, requires_grad=True)\n",
    "extended_pred_mean = np.tile(pred_mean, 2)\n",
    "extended_pred_mean\n",
    "extended_pred_mean = np.tile(pred_mean, 2)\n",
    "extended_pred_mean.shape\n",
    "K = kernel(extended_pred_mean[0].reshape(-1, 1))  # X is the input data\n",
    "K"
   ]
  },
  {
   "cell_type": "code",
   "execution_count": 8,
   "metadata": {},
   "outputs": [
    {
     "name": "stdout",
     "output_type": "stream",
     "text": [
      "torch.Size([4, 1])\n"
     ]
    }
   ],
   "source": [
    "Sigma = K  # Combine cross-output and input covariance\n",
    "noise_term = 1e-5 * torch.eye(Sigma.shape[0])  # Add numerical stability\n",
    "Sigma = noise_term + Sigma\n",
    "\n",
    "# Compute the inverse and log determinant of Σ(θ)\n",
    "Sigma_inv = torch.inverse(Sigma)\n",
    "log_det_Sigma = torch.logdet(Sigma)\n",
    "\n",
    "# Compute the difference between observed and predicted means\n",
    "diff = (obs_mean - torch.tensor(extended_pred_mean[0], requires_grad=True)).reshape(-1, 1)\n",
    "print(diff.shape)\n",
    "# Compute the quadratic term: (y - m(θ))^T Σ(θ)^(-1) (y - m(θ))\n",
    "quad_term = torch.matmul(diff.T, torch.matmul(Sigma_inv, diff))\n",
    "\n",
    "# Negative log-likelihood\n",
    "nll = 0.5 * (quad_term + log_det_Sigma + len(diff) * torch.log(torch.tensor(2 * torch.pi)))\n",
    "\n"
   ]
  },
  {
   "cell_type": "code",
   "execution_count": 11,
   "metadata": {},
   "outputs": [
    {
     "data": {
      "text/plain": [
       "AdditiveKernel(\n",
       "  (kernels): ModuleList(\n",
       "    (0): RBFKernel(\n",
       "      (raw_lengthscale_constraint): Positive()\n",
       "    )\n",
       "    (1): ConstantKernel(\n",
       "      (raw_constant_constraint): Positive()\n",
       "    )\n",
       "  )\n",
       ")"
      ]
     },
     "execution_count": 11,
     "metadata": {},
     "output_type": "execute_result"
    }
   ],
   "source": [
    "gp = em.get_model(\"gp\")\n",
    "kernel = gp.named_steps[\"model\"].model_.module_.covar_module.base_kernel\n",
    "\n",
    "\n",
    "kernel\n",
    "\n"
   ]
  },
  {
   "cell_type": "code",
   "execution_count": null,
   "metadata": {},
   "outputs": [],
   "source": []
  },
  {
   "cell_type": "code",
   "execution_count": null,
   "metadata": {},
   "outputs": [],
   "source": []
  }
 ],
 "metadata": {
  "kernelspec": {
   "display_name": "env_autoem",
   "language": "python",
   "name": "python3"
  },
  "language_info": {
   "codemirror_mode": {
    "name": "ipython",
    "version": 3
   },
   "file_extension": ".py",
   "mimetype": "text/x-python",
   "name": "python",
   "nbconvert_exporter": "python",
   "pygments_lexer": "ipython3",
   "version": "3.11.4"
  }
 },
 "nbformat": 4,
 "nbformat_minor": 2
}
